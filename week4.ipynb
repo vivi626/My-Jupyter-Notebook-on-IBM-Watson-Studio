{
 "cells": [
  {
   "cell_type": "markdown",
   "id": "7c27fd91-f210-4fbe-a582-b40e9350974a",
   "metadata": {
    "tags": []
   },
   "source": [
    "<h1>My Jupyter Notebook on IBM Watson Studio</h1>"
   ]
  },
  {
   "cell_type": "markdown",
   "id": "0f5409ef-96bd-497b-8788-7e51f071e3c5",
   "metadata": {},
   "source": [
    "<b>Joseph Leone</b><br>\n",
    "English Teacher"
   ]
  },
  {
   "cell_type": "markdown",
   "id": "78518cd7-0817-4916-afed-79a8d8c489aa",
   "metadata": {},
   "source": [
    "<i>I am interested in data science because it helps predict the future.</i>"
   ]
  },
  {
   "cell_type": "markdown",
   "id": "2b4b3e3a-01e2-4ab7-843b-ab6d21c2ed44",
   "metadata": {},
   "source": [
    "<h3>The following code will multiply 2 by 2.</h3>"
   ]
  },
  {
   "cell_type": "code",
   "execution_count": 4,
   "id": "fc8cbadf-396a-4bbb-ba27-ad18536181de",
   "metadata": {},
   "outputs": [
    {
     "data": {
      "text/plain": [
       "4"
      ]
     },
     "execution_count": 4,
     "metadata": {},
     "output_type": "execute_result"
    }
   ],
   "source": [
    "2*2"
   ]
  },
  {
   "cell_type": "markdown",
   "id": "8317b326-20c9-4620-a908-d4b93dc4e9c8",
   "metadata": {},
   "source": [
    "Meals\n",
    "<table align='left'>\n",
    "    <tr><th>Breakfast</th><th>Lunch</th></tr>\n",
    "    <tr><td>Eggs and bacon</td><td>ham sandwich</td></tr>\n",
    "</table>\n",
    "<br><br><br><br>\n",
    "\n",
    "Grocery List\n",
    "<div>\n",
    "<ul>\n",
    "    <li>Water</li>\n",
    "    <li>Bread</li>\n",
    "    <li>Ham</li>\n",
    "</ul>\n",
    "</div>\n",
    "\n",
    "Link to CourseRa:\n",
    "<a href='https://www.coursera.org/'>CoursRa</a>"
   ]
  }
 ],
 "metadata": {
  "kernelspec": {
   "display_name": "Python 3 (ipykernel)",
   "language": "python",
   "name": "python3"
  },
  "language_info": {
   "codemirror_mode": {
    "name": "ipython",
    "version": 3
   },
   "file_extension": ".py",
   "mimetype": "text/x-python",
   "name": "python",
   "nbconvert_exporter": "python",
   "pygments_lexer": "ipython3",
   "version": "3.10.0"
  }
 },
 "nbformat": 4,
 "nbformat_minor": 5
}
